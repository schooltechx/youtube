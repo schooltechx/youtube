{
 "cells": [
  {
   "cell_type": "markdown",
   "metadata": {},
   "source": [
    "# Jupyter Notebook\n",
    "\n",
    "เป็นเวปแอปสำหรับเป็นเหมือนสมุดจดบันทึก พร้อมตัวอย่างโค้ด รองรับหลายภาษา สามารถรันโปรแกรมและแสดงผลได้ในตัว  เหมาะสำหรับการเรียนและแลกเปลี่ยนความรู้ ที่นิยมใช้เช่น [Colab](https://colab.google/) และ สามารถใช้งานบน Visual Studio Code ได้ด้วย\n",
    "\n",
    "ใช้คำสั่ง %lsmagic เพื่อดูรายการ คำสั่ง [Magic](https://ipython.readthedocs.io/en/stable/interactive/magics.html) ใน Jupyter Notebook และ IPython สามารถใช้ดูภาษาที่รองรับ บรรทัดแรกของภาษาที่ไม่ใช่ Python จะต้องมี %% ตามด้วยชื่อภาษาที่รองรับ"
   ]
  },
  {
   "cell_type": "code",
   "execution_count": null,
   "metadata": {},
   "outputs": [],
   "source": [
    "%lsmagic"
   ]
  },
  {
   "cell_type": "markdown",
   "metadata": {},
   "source": [
    "## Python\n",
    "ไม่จำเป็นต้องระบุภาษาเป็นค่าตั้งต้น ถ้าจำเรียกใช้คำสั่งภายนอกให้นำหน้าด้วย ! เช่นต้องการติดตั้ง package เพิ่มเติม"
   ]
  },
  {
   "cell_type": "code",
   "execution_count": null,
   "metadata": {},
   "outputs": [],
   "source": [
    "print(\"Hello\")\n",
    "! pip --version"
   ]
  },
  {
   "cell_type": "markdown",
   "metadata": {},
   "source": [
    "ตัวอย่างการสร้างกราฟแบบ interactive ต้องติดตั้ง Package ที่จำเป็นก่อน"
   ]
  },
  {
   "cell_type": "code",
   "execution_count": null,
   "metadata": {},
   "outputs": [],
   "source": [
    "!pip install matplotlib\n",
    "!pip install ipywidgets"
   ]
  },
  {
   "cell_type": "markdown",
   "metadata": {},
   "source": [
    "รันโค้ดโปรแกรม ถ้ามีปัญหาโปรแกรมรันไปเรื่อยๆไม่แสดงให้หยุดการทำงานปิดโค้ดหน้านี้แล้วลองเปิดใหม่"
   ]
  },
  {
   "cell_type": "code",
   "execution_count": 1,
   "metadata": {},
   "outputs": [
    {
     "data": {
      "application/vnd.jupyter.widget-view+json": {
       "model_id": "35416e06904547bd920136373b3e218f",
       "version_major": 2,
       "version_minor": 0
      },
      "text/plain": [
       "interactive(children=(FloatSlider(value=3.0, description='amplitude', max=5.0, min=1.0), FloatSlider(value=5.0…"
      ]
     },
     "metadata": {},
     "output_type": "display_data"
    },
    {
     "data": {
      "text/plain": [
       "<function __main__.interactive_plot(amplitude, frequency)>"
      ]
     },
     "execution_count": 1,
     "metadata": {},
     "output_type": "execute_result"
    }
   ],
   "source": [
    "import numpy as np\n",
    "import matplotlib.pyplot as plt\n",
    "from ipywidgets import interact\n",
    "def interactive_plot(amplitude, frequency):\n",
    "    x = np.linspace(0, 2 * np.pi, 1000)\n",
    "    y = amplitude * np.sin(frequency * x)\n",
    "    plt.figure(figsize=(8, 4))\n",
    "    plt.plot(x, y)\n",
    "    plt.xlabel('X-axis')\n",
    "    plt.ylabel('Y-axis')\n",
    "    plt.title('Interactive Sine Wave')\n",
    "    plt.grid(True)\n",
    "    plt.show()\n",
    "interact(interactive_plot, amplitude=(1, 5, 0.1), frequency=(1, 10, 0.1))"
   ]
  },
  {
   "cell_type": "markdown",
   "metadata": {},
   "source": [
    "## JavaScript  \n",
    "console.log(\"Hello\") ไม่สามารถแสดงบน VS Code ได้จะใช้คำสั่ง element.text แทน บน Colab ต้องเปิด debug console ของ browser ดู"
   ]
  },
  {
   "cell_type": "code",
   "execution_count": null,
   "metadata": {},
   "outputs": [],
   "source": [
    "%%js\n",
    "console.log(\"Hello\")\n",
    "element.text(\"Hello2\")"
   ]
  },
  {
   "cell_type": "markdown",
   "metadata": {},
   "source": [
    "## HTML\n",
    "สำหรับภาษา HTML สามารถแทรก JavaScript ใช้บน Colab รันได้ แต่บน VS Code จะรันไม่ได้"
   ]
  },
  {
   "cell_type": "code",
   "execution_count": null,
   "metadata": {
    "vscode": {
     "languageId": "html"
    }
   },
   "outputs": [],
   "source": [
    "%%HTML\n",
    "<h1 >Test H1</h1>\n",
    "<button onclick=\"alert('Hello')\">Click Me!</button>"
   ]
  },
  {
   "cell_type": "markdown",
   "metadata": {},
   "source": [
    "## Shell Script\n",
    "เรียกคำสั่งได้เลย"
   ]
  },
  {
   "cell_type": "code",
   "execution_count": null,
   "metadata": {
    "vscode": {
     "languageId": "shellscript"
    }
   },
   "outputs": [],
   "source": [
    "%%bash\n",
    "ls -la"
   ]
  },
  {
   "cell_type": "markdown",
   "metadata": {},
   "source": [
    "LaTeX"
   ]
  },
  {
   "cell_type": "code",
   "execution_count": 1,
   "metadata": {
    "vscode": {
     "languageId": "latex"
    }
   },
   "outputs": [
    {
     "data": {
      "text/latex": [
       "\\begin{equation}\n",
       "\\gamma^2+\\theta^2=\\omega^2\n",
       "\\end{equation}\n"
      ],
      "text/plain": [
       "<IPython.core.display.Latex object>"
      ]
     },
     "metadata": {},
     "output_type": "display_data"
    }
   ],
   "source": [
    "%%latex\n",
    "\\begin{equation}\n",
    "\\gamma^2+\\theta^2=\\omega^2\n",
    "\\end{equation}"
   ]
  }
 ],
 "metadata": {
  "kernelspec": {
   "display_name": "Python 3",
   "language": "python",
   "name": "python3"
  },
  "language_info": {
   "codemirror_mode": {
    "name": "ipython",
    "version": 3
   },
   "file_extension": ".py",
   "mimetype": "text/x-python",
   "name": "python",
   "nbconvert_exporter": "python",
   "pygments_lexer": "ipython3",
   "version": "3.11.7"
  }
 },
 "nbformat": 4,
 "nbformat_minor": 2
}
