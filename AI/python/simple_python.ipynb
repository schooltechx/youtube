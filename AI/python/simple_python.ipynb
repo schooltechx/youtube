{
  "cells": [
    {
      "cell_type": "markdown",
      "metadata": {
        "id": "cVclfF-ap1wg"
      },
      "source": [
        "# เริ่มแรกเรียนรู้ Python\n",
        "เรียนแบบย่อนย่อเพื่อเป็นพื้นฐานไปต่อในการพัฒนาโปรแกรมทั่วไป, [Data Scientist](https://th.jobsdb.com/th/career-advice/article/data-scientist-%E0%B8%84%E0%B8%B7%E0%B8%AD%E0%B8%AD%E0%B8%B0%E0%B9%84%E0%B8%A3), [Data Engineer](https://www.coraline.co.th/single-post/data-engineer-in-organization), งาน Machine Learning หรือพัฒนาโปรแกรมทั่วไป แนะนำให้ดูเพิ่มที่ [w3school](https://www.w3schools.com/python/)\n",
        "\n",
        "# Function\n",
        "ทำให้โค้ดสามารถนำกลับมาใช้ซ้ำโดยแก้ตัวแปรได้ได้"
      ]
    },
    {
      "cell_type": "code",
      "execution_count": 2,
      "metadata": {
        "colab": {
          "base_uri": "https://localhost:8080/"
        },
        "id": "2LIB9wSRaSf-",
        "outputId": "da0b47e4-9d32-4897-a37d-f00d5b6f673c"
      },
      "outputs": [
        {
          "name": "stdout",
          "output_type": "stream",
          "text": [
            "Hello Python\n",
            "Hello Oom\n",
            "Hello Teachers\n"
          ]
        }
      ],
      "source": [
        "print(\"Hello Python\")\n",
        "def myfunc(name):\n",
        "  print(\"Hello \" + name)\n",
        "\n",
        "myfunc(\"Oom\")\n",
        "myfunc(\"Teacher\")"
      ]
    },
    {
      "cell_type": "markdown",
      "metadata": {
        "id": "j8gO-HTzg1uK"
      },
      "source": [
        "## Condition\n",
        "สามารถตัดสินใจได้ตามเงื่อนไขที่กำหนด ในตัวอย่างจะมีการรับ Input ทำการแปลงค่าเป็นตัวเลข(int)"
      ]
    },
    {
      "cell_type": "code",
      "execution_count": 1,
      "metadata": {
        "colab": {
          "base_uri": "https://localhost:8080/"
        },
        "id": "a3njviYOg9pj",
        "outputId": "be88f323-800b-457c-9634-99e8e79fc0d7"
      },
      "outputs": [],
      "source": [
        "age = int(input(\"Enter age : \"))\n",
        "if age > 18 :\n",
        "  print('Adult 18+')\n",
        "else :\n",
        "  print(\"Kid\")"
      ]
    },
    {
      "cell_type": "markdown",
      "metadata": {
        "id": "eyOFKwvEaIyS"
      },
      "source": [
        "## Loop\n",
        "สามารถทำซ้ำหลายๆครั้งได้ ตัวอย่างลูป while และใช้ if elif else ในการตรวจสอบเงื่อนไข"
      ]
    },
    {
      "cell_type": "code",
      "execution_count": null,
      "metadata": {
        "colab": {
          "base_uri": "https://localhost:8080/"
        },
        "id": "ZAoPiusfdyx4",
        "outputId": "7d617a89-c0da-408d-d371-62276c4e0005"
      },
      "outputs": [
        {
          "name": "stdout",
          "output_type": "stream",
          "text": [
            "1\n",
            "2\n",
            "Got  3\n",
            "Found  4\n"
          ]
        }
      ],
      "source": [
        "i = 1\n",
        "while i < 6 :\n",
        "  if i<3 :\n",
        "    print(i)\n",
        "  elif i==4 :\n",
        "    print(\"Found \",i)\n",
        "  else:\n",
        "    print(\"Got \",i)\n",
        "  i += 1"
      ]
    },
    {
      "cell_type": "markdown",
      "metadata": {
        "id": "ORHTVF0UfIYx"
      },
      "source": [
        "ตัวอย่างลูป for กับตัวแปรแบบต่างๆ"
      ]
    },
    {
      "cell_type": "code",
      "execution_count": 28,
      "metadata": {
        "colab": {
          "base_uri": "https://localhost:8080/"
        },
        "id": "YyQjxkPKp8rc",
        "outputId": "643e074d-1fec-4dc7-e38b-496ca146326c"
      },
      "outputs": [
        {
          "name": "stdout",
          "output_type": "stream",
          "text": [
            "Hello a\n",
            "Hello b\n",
            "Hello c\n",
            "Hello b\n"
          ]
        }
      ],
      "source": [
        "# x = range(4)    # int\n",
        "# x = range(3,5)  # range\n",
        "# x = {\"name\" : \"Dog\", \"age\" : 4} # dict\n",
        "# x = {'a','b','c','b'} # set\n",
        "x = ['a','b','c','b'] # list\n",
        "for i in x:\n",
        "  print(\"Hello\",i )\n"
      ]
    },
    {
      "cell_type": "markdown",
      "metadata": {
        "id": "rac8GKJ7yKSh"
      },
      "source": [
        "## ตัวอย่างการใช้ 2 ลูปซ้อนกัน"
      ]
    },
    {
      "cell_type": "code",
      "execution_count": 3,
      "metadata": {
        "colab": {
          "base_uri": "https://localhost:8080/"
        },
        "id": "VvwUUCb_yYAO",
        "outputId": "789ddebd-909b-46c7-a223-91d2567142a1"
      },
      "outputs": [
        {
          "name": "stdout",
          "output_type": "stream",
          "text": [
            "*\n",
            "**\n",
            "***\n",
            "****\n"
          ]
        }
      ],
      "source": [
        "for i in range(4):\n",
        "  a = \"\"\n",
        "  for j in range(i+1):\n",
        "    a+=\"*\"\n",
        "  print(a)"
      ]
    },
    {
      "cell_type": "code",
      "execution_count": 4,
      "metadata": {
        "colab": {
          "base_uri": "https://localhost:8080/"
        },
        "id": "RzKDSEBSyg9s",
        "outputId": "2e55f63f-c6c1-46ca-fd2b-64c51f7249c0"
      },
      "outputs": [
        {
          "name": "stdout",
          "output_type": "stream",
          "text": [
            "    *\n",
            "   ***\n",
            "  *****\n",
            " *******\n"
          ]
        }
      ],
      "source": [
        "for i in range(4):\n",
        "  a = \"\"\n",
        "  b = \"\"\n",
        "  for j in range(4-i):\n",
        "    a+=\" \"\n",
        "  for k in range((i*2)+1):\n",
        "    b+=\"*\"\n",
        "  print(a+b)"
      ]
    }
  ],
  "metadata": {
    "colab": {
      "provenance": []
    },
    "kernelspec": {
      "display_name": "Python 3",
      "name": "python3"
    },
    "language_info": {
      "codemirror_mode": {
        "name": "ipython",
        "version": 3
      },
      "file_extension": ".py",
      "mimetype": "text/x-python",
      "name": "python",
      "nbconvert_exporter": "python",
      "pygments_lexer": "ipython3",
      "version": "3.11.7"
    }
  },
  "nbformat": 4,
  "nbformat_minor": 0
}
